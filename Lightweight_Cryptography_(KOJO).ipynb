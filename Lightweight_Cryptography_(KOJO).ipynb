{
  "nbformat": 4,
  "nbformat_minor": 0,
  "metadata": {
    "colab": {
      "provenance": []
    },
    "kernelspec": {
      "name": "python3",
      "display_name": "Python 3"
    },
    "language_info": {
      "name": "python"
    }
  },
  "cells": [
    {
      "cell_type": "markdown",
      "source": [
        "**Get binary value function:**"
      ],
      "metadata": {
        "id": "Sr1nXXduY2VB"
      }
    },
    {
      "cell_type": "code",
      "execution_count": 22,
      "metadata": {
        "colab": {
          "base_uri": "https://localhost:8080/",
          "height": 36
        },
        "id": "wXn9y54vYtRX",
        "outputId": "6bac9dfd-d7da-43d9-ed35-f5f5912ca7f8"
      },
      "outputs": [
        {
          "output_type": "execute_result",
          "data": {
            "text/plain": [
              "'00001'"
            ],
            "application/vnd.google.colaboratory.intrinsic+json": {
              "type": "string"
            }
          },
          "metadata": {},
          "execution_count": 22
        }
      ],
      "source": [
        "def get_bin(number: int, n: int)-> str:\n",
        "    '''Returns binary representation of number filled with 0's to length n'''\n",
        "    return bin(number)[2:].zfill(n)\n",
        "\n",
        "get_bin(1,5)"
      ]
    },
    {
      "cell_type": "markdown",
      "source": [
        "**Generate random sequence of bits of a given length function:**"
      ],
      "metadata": {
        "id": "-1bakeiIY7S8"
      }
    },
    {
      "cell_type": "code",
      "source": [
        "import random\n",
        "\n",
        "def get_random_bits(n: int) -> str:\n",
        "    '''Returns sequence of random bits of length n'''\n",
        "    i = random.randint(0,pow(2,n)-1)\n",
        "    bin_key = get_bin(i,n)\n",
        "    return bin_key\n",
        "\n",
        "test_key = get_random_bits(4)\n",
        "print(\"Random 4 bits: \" + test_key)\n",
        "test_key = get_random_bits(8)\n",
        "print(\"Random 8 bits: \" +test_key)"
      ],
      "metadata": {
        "colab": {
          "base_uri": "https://localhost:8080/"
        },
        "id": "7C-LYU3qY_HM",
        "outputId": "0dd750c8-b60b-4b10-d4f8-2e9d4a173efa"
      },
      "execution_count": 23,
      "outputs": [
        {
          "output_type": "stream",
          "name": "stdout",
          "text": [
            "Random 4 bits: 0001\n",
            "Random 8 bits: 11001001\n"
          ]
        }
      ]
    },
    {
      "cell_type": "markdown",
      "source": [
        "**LEA (128-bit) implementation**"
      ],
      "metadata": {
        "id": "HeBlYdAHZj1U"
      }
    },
    {
      "cell_type": "markdown",
      "source": [
        "**ADD (modulo 232) operation:**"
      ],
      "metadata": {
        "id": "-zruyRbvZlYS"
      }
    },
    {
      "cell_type": "code",
      "source": [
        "def ADD(x: str,y: str) -> str:\n",
        "    '''ADD mod 2^32'''\n",
        "    return get_bin(((int(x,2) + int(y,2)) % 4294967296), 32) #pow(2,32)\n",
        "\n",
        "ADD('11111111111111111111111111111111','10')"
      ],
      "metadata": {
        "colab": {
          "base_uri": "https://localhost:8080/",
          "height": 36
        },
        "id": "hebRix2DZjaH",
        "outputId": "deecbbbf-7293-470d-b632-4c03469a25bf"
      },
      "execution_count": 24,
      "outputs": [
        {
          "output_type": "execute_result",
          "data": {
            "text/plain": [
              "'00000000000000000000000000000001'"
            ],
            "application/vnd.google.colaboratory.intrinsic+json": {
              "type": "string"
            }
          },
          "metadata": {},
          "execution_count": 24
        }
      ]
    },
    {
      "cell_type": "markdown",
      "source": [
        "**SUB (modulo 232) operation:**"
      ],
      "metadata": {
        "id": "EYvsv-r4Zvlr"
      }
    },
    {
      "cell_type": "code",
      "source": [
        "def SUB(x: str,y: str) -> str:\n",
        "    '''SUB mod 2^32'''\n",
        "    return get_bin(((int(x,2) - int(y,2)) % 4294967296),32)\n",
        "\n",
        "SUB('1','10')"
      ],
      "metadata": {
        "colab": {
          "base_uri": "https://localhost:8080/",
          "height": 36
        },
        "id": "H3DOeQH7Zyuf",
        "outputId": "94c54d31-cf77-4f17-f681-50e7744ac082"
      },
      "execution_count": 25,
      "outputs": [
        {
          "output_type": "execute_result",
          "data": {
            "text/plain": [
              "'11111111111111111111111111111111'"
            ],
            "application/vnd.google.colaboratory.intrinsic+json": {
              "type": "string"
            }
          },
          "metadata": {},
          "execution_count": 25
        }
      ]
    },
    {
      "cell_type": "markdown",
      "source": [
        "**XOR operation:**"
      ],
      "metadata": {
        "id": "04SRNk37Z1G2"
      }
    },
    {
      "cell_type": "code",
      "source": [
        "def XOR(bits1: str, bits2: str) -> str:\n",
        "    \"\"\"XOR operation\"\"\"\n",
        "    xor_result = \"\"\n",
        "    for index in range(len(bits1)):\n",
        "        if bits1[index] == bits2[index]:\n",
        "            xor_result += '0'\n",
        "        else:\n",
        "            xor_result += '1'\n",
        "    return xor_result\n",
        "\n",
        "XOR('010','110')"
      ],
      "metadata": {
        "colab": {
          "base_uri": "https://localhost:8080/",
          "height": 36
        },
        "id": "xu42Is4bZ4s-",
        "outputId": "cbac1094-1075-48dd-bad1-f1c439844272"
      },
      "execution_count": 26,
      "outputs": [
        {
          "output_type": "execute_result",
          "data": {
            "text/plain": [
              "'100'"
            ],
            "application/vnd.google.colaboratory.intrinsic+json": {
              "type": "string"
            }
          },
          "metadata": {},
          "execution_count": 26
        }
      ]
    },
    {
      "cell_type": "markdown",
      "source": [
        "**ROTATE (LEFT & RIGHT) operation:**"
      ],
      "metadata": {
        "id": "QnrgZgKtZ5Yz"
      }
    },
    {
      "cell_type": "code",
      "source": [
        "def ROL(x: str,i: str) -> str:\n",
        "    '''i-bit's left rotation'''\n",
        "    shiftedbits = x[i:] + x[:i]\n",
        "    return shiftedbits\n",
        "\n",
        "def ROR(x: str,i: str) -> str:\n",
        "    '''i-bit's right rotation'''\n",
        "    shiftedbits = x[-i:] + x[:-i]\n",
        "    return shiftedbits\n",
        "\n",
        "print(ROL('10010',1))\n",
        "print(ROR('10010',1))"
      ],
      "metadata": {
        "colab": {
          "base_uri": "https://localhost:8080/"
        },
        "id": "bpAk5OFOZ_bu",
        "outputId": "9f79fbfd-f3c3-4fb6-d566-a1e5c979f8d8"
      },
      "execution_count": 27,
      "outputs": [
        {
          "output_type": "stream",
          "name": "stdout",
          "text": [
            "00101\n",
            "01001\n"
          ]
        }
      ]
    },
    {
      "cell_type": "markdown",
      "source": [
        "**Table of constants **"
      ],
      "metadata": {
        "id": "Zr8SFChkaDEX"
      }
    },
    {
      "cell_type": "code",
      "source": [
        "#The table is longer than we need, because we use all values for longer keys\n",
        "d = [0xc3efe9db, 0x44626b02, 0x79e27c8a, 0x78df30ec, 0x715ea49e, 0xc785da0a, 0xe04ef22a, 0xe5c40957]\n",
        "\n",
        "get_bin(d[0],32)"
      ],
      "metadata": {
        "colab": {
          "base_uri": "https://localhost:8080/",
          "height": 36
        },
        "id": "i7u3fel1aGgH",
        "outputId": "48858f29-8f83-4aca-cacc-c4e101c07654"
      },
      "execution_count": 28,
      "outputs": [
        {
          "output_type": "execute_result",
          "data": {
            "text/plain": [
              "'11000011111011111110100111011011'"
            ],
            "application/vnd.google.colaboratory.intrinsic+json": {
              "type": "string"
            }
          },
          "metadata": {},
          "execution_count": 28
        }
      ]
    },
    {
      "cell_type": "markdown",
      "source": [
        "**Generate round keys function (128-bit):**"
      ],
      "metadata": {
        "id": "srxE9wEkaJYk"
      }
    },
    {
      "cell_type": "code",
      "source": [
        "from textwrap import wrap\n",
        "\n",
        "def get_round_keys(key: str) -> list:\n",
        "    '''\n",
        "    Takes:\n",
        "    - 128-bit key (string)\n",
        "    Returns:\n",
        "    - 24 192-bit round keys (array)\n",
        "    '''\n",
        "    # round key table\n",
        "    RK = []\n",
        "\n",
        "    # 1.\n",
        "    T0, T1, T2, T3 = wrap(key, 32)\n",
        "\n",
        "\n",
        "    # 2.\n",
        "    for i in range(0,24):\n",
        "        delta = get_bin(d[i%4], 32)\n",
        "\n",
        "        T0 = ROL(ADD(T0, ROL(delta,i)), 1)\n",
        "        T1 = ROL(ADD(T1, ROL(delta,i+1)), 3)\n",
        "        T2 = ROL(ADD(T2, ROL(delta,i+2)), 6)\n",
        "        T3 = ROL(ADD(T3, ROL(delta,i+3)), 11)\n",
        "\n",
        "        RK.append([T0, T1, T2, T1, T3, T1])\n",
        "    return RK\n",
        "\n",
        "test_key = get_random_bits(128)\n",
        "test_RK = get_round_keys(test_key)\n",
        "print(len(test_RK))"
      ],
      "metadata": {
        "colab": {
          "base_uri": "https://localhost:8080/"
        },
        "id": "dl6SiQE2aO8v",
        "outputId": "d1ee097f-1698-4b36-c08d-06b719927f14"
      },
      "execution_count": 29,
      "outputs": [
        {
          "output_type": "stream",
          "name": "stdout",
          "text": [
            "24\n"
          ]
        }
      ]
    },
    {
      "cell_type": "markdown",
      "source": [
        "**Encrypting:**"
      ],
      "metadata": {
        "id": "AghgDXV_aR-4"
      }
    },
    {
      "cell_type": "code",
      "source": [
        "def lea_encrypt(block: str, key: str) -> str:\n",
        "    '''\n",
        "    Takes:\n",
        "    - 128-bit blok (string w postaci binarnej)\n",
        "    - 128-bit klucz (string w postaci binarnej)\n",
        "    Returns:\n",
        "    - 128-bit zaszyfrowany blok (string w postaci binarnej)\n",
        "    '''\n",
        "    # wygenerowanie kluczy rundowych\n",
        "    RK = get_round_keys(key)\n",
        "\n",
        "    # 1.\n",
        "    X00, X01, X02, X03 = wrap(block, 32)\n",
        "\n",
        "\n",
        "    # 2.\n",
        "    for i in range(0,24):\n",
        "        X10 = ROL(ADD(XOR(X00, RK[i][0]), XOR(X01, RK[i][1])), 9)\n",
        "        X11 = ROR(ADD(XOR(X01, RK[i][2]), XOR(X02, RK[i][3])), 5)\n",
        "        X12 = ROR(ADD(XOR(X02, RK[i][4]), XOR(X03, RK[i][5])), 3)\n",
        "        X13 = X00\n",
        "\n",
        "        X00, X01, X02, X03 = X10, X11, X12, X13\n",
        "\n",
        "    # 3.\n",
        "    return X10+X11+X12+X13"
      ],
      "metadata": {
        "id": "rrhpgvtJaVmm"
      },
      "execution_count": 30,
      "outputs": []
    },
    {
      "cell_type": "markdown",
      "source": [
        "**Decrypting:**"
      ],
      "metadata": {
        "id": "KghpCXhlaZMf"
      }
    },
    {
      "cell_type": "code",
      "source": [
        "def lea_decrypt(ciphered_block: str, key: str) -> str:\n",
        "    '''\n",
        "    Takes:\n",
        "    - 128-bit ciphertext\n",
        "    - 128-bit key\n",
        "    Returns:\n",
        "    - 128-bit deciphered text\n",
        "    '''\n",
        "    # generating round keys\n",
        "    RK = get_round_keys(key)\n",
        "\n",
        "    # 1.\n",
        "    X10, X11, X12, X13 = wrap(ciphered_block, 32)\n",
        "\n",
        "    # 2.\n",
        "    for i in range(23,-1,-1):\n",
        "        X00 = X13\n",
        "        X01 = XOR(SUB(ROR(X10, 9), XOR(X00, RK[i][0])), RK[i][1])\n",
        "        X02 = XOR(SUB(ROL(X11, 5), XOR(X01, RK[i][2])), RK[i][3])\n",
        "        X03 = XOR(SUB(ROL(X12, 3), XOR(X02, RK[i][4])), RK[i][5])\n",
        "\n",
        "        X10, X11, X12, X13 = X00, X01, X02, X03\n",
        "\n",
        "    # 3.\n",
        "    return X00+X01+X02+X03"
      ],
      "metadata": {
        "id": "hOePgPCqadJA"
      },
      "execution_count": 31,
      "outputs": []
    },
    {
      "cell_type": "markdown",
      "source": [
        "\n",
        "**Test for random values:**"
      ],
      "metadata": {
        "id": "HyeIRlYTagtr"
      }
    },
    {
      "cell_type": "code",
      "source": [
        "key = get_random_bits(128)\n",
        "plaintext = get_random_bits(128)\n",
        "\n",
        "print('Plaintext: '+ hex(int(plaintext,2)))\n",
        "ciphertext = lea_encrypt(plaintext, key)\n",
        "print('Ciphered: '+hex(int(ciphertext,2)))\n",
        "decrypted = lea_decrypt(ciphertext, key)\n",
        "print('Decrypted: '+hex(int(decrypted,2)))\n",
        "print('if plain==decrypted:'+ str(plaintext==decrypted))"
      ],
      "metadata": {
        "colab": {
          "base_uri": "https://localhost:8080/"
        },
        "id": "Rqxsqxrqajae",
        "outputId": "d5ce615f-1d3e-492b-a035-33caf583d4c1"
      },
      "execution_count": 32,
      "outputs": [
        {
          "output_type": "stream",
          "name": "stdout",
          "text": [
            "Plaintext: 0xf043bbaf0083e54f5571a47dddd8e1c0\n",
            "Ciphered: 0x5c61b171af5920dd51a5d4a2842e4af9\n",
            "Decrypted: 0xf043bbaf0083e54f5571a47dddd8e1c0\n",
            "if plain==decrypted:True\n"
          ]
        }
      ]
    },
    {
      "cell_type": "markdown",
      "source": [
        "**Test vectors:**"
      ],
      "metadata": {
        "id": "LAQs5DwVam9u"
      }
    },
    {
      "cell_type": "code",
      "source": [
        "'''\n",
        "LEA-128\n",
        "# Key: 0f 1e 2d 3c 4b 5a 69 78 87 96 a5 b4 c3 d2 e1 f0\n",
        "# Plaintext: 10 11 12 13 14 15 16 17 18 19 1a 1b 1c 1d 1e 1f\n",
        "# Ciphertext: 9f c8 4e 35 28 c6 c6 18 55 32 c7 a7 04 64 8b fd\n",
        "'''\n",
        "\n",
        "key = get_bin(0x0f1e2d3c4b5a69788796a5b4c3d2e1f0, 128)\n",
        "plaintext = get_bin(0x101112131415161718191a1b1c1d1e1f, 128)\n",
        "\n",
        "print('Plaintext: '+ hex(int(plaintext,2)))\n",
        "ciphertext = lea_encrypt(plaintext, key)\n",
        "print('Ciphertext: '+hex(int(ciphertext,2)))\n",
        "print('if ciphertext==0x9fc84e3528c6c6185532c7a704648bfd:'+ str(int(ciphertext,2)==0x9fc84e3528c6c6185532c7a704648bfd))\n",
        "decrypted = lea_decrypt(ciphertext, key)\n",
        "print('Decrypted: '+hex(int(decrypted,2)))"
      ],
      "metadata": {
        "colab": {
          "base_uri": "https://localhost:8080/"
        },
        "id": "QSPqMBExapsn",
        "outputId": "c6f883e7-e6b6-4df6-80d0-3ee06edaf517"
      },
      "execution_count": 33,
      "outputs": [
        {
          "output_type": "stream",
          "name": "stdout",
          "text": [
            "Plaintext: 0x101112131415161718191a1b1c1d1e1f\n",
            "Ciphertext: 0xaba3d37ecdcb95e4c924be72cbfc48ab\n",
            "if ciphertext==0x9fc84e3528c6c6185532c7a704648bfd:False\n",
            "Decrypted: 0x101112131415161718191a1b1c1d1e1f\n"
          ]
        }
      ]
    }
  ]
}